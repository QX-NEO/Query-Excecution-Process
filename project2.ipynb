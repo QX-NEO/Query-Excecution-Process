{
 "cells": [
  {
   "cell_type": "code",
   "execution_count": 1,
   "id": "98664793",
   "metadata": {},
   "outputs": [],
   "source": [
    "import password\n",
    "import pandas as pd\n",
    "import psycopg2\n",
    "from psycopg2 import Error"
   ]
  },
  {
   "cell_type": "code",
   "execution_count": 2,
   "id": "50ab2163",
   "metadata": {},
   "outputs": [],
   "source": [
    "POSTGRES_ADDRESS = password.getaddress()\n",
    "POSTGRES_PORT = password.getport()\n",
    "POSTGRES_USERNAME = password.getusername()\n",
    "POSTGRES_PASSWORD = password.getpass()\n",
    "POSTGRES_DBNAME = password.getdbname()\n"
   ]
  },
  {
   "cell_type": "code",
   "execution_count": 3,
   "id": "e99c6250",
   "metadata": {},
   "outputs": [
    {
     "name": "stdout",
     "output_type": "stream",
     "text": [
      "You are connected to -  ('PostgreSQL 13.2, compiled by Visual C++ build 1914, 64-bit',) \n",
      "\n",
      "Result  [('Limit  (cost=0.00..0.14 rows=5 width=107)',), ('  ->  Seq Scan on orders  (cost=0.00..41095.00 rows=1500000 width=107)',)]\n"
     ]
    }
   ],
   "source": [
    "try:\n",
    "    # Connect to an existing database\n",
    "    connection = psycopg2.connect(user = POSTGRES_USERNAME,\n",
    "                                  password = POSTGRES_PASSWORD,\n",
    "                                  host = POSTGRES_ADDRESS,\n",
    "                                  port = POSTGRES_PORT,\n",
    "                                  database= POSTGRES_DBNAME)\n",
    "\n",
    "\n",
    "    cursor = connection.cursor()\n",
    "    cursor.execute(\"SELECT version();\")\n",
    "    record = cursor.fetchone()\n",
    "    print(\"You are connected to - \", record, \"\\n\")\n",
    "    cursor.execute(\"explain SELECT * from orders limit 5\")\n",
    "    record = cursor.fetchall()\n",
    "    print(\"Result \", record)\n",
    "    \n",
    "\n",
    "except (Exception, Error) as error:\n",
    "    print(\"Error while connecting to PostgreSQL\", error)\n",
    "    "
   ]
  },
  {
   "cell_type": "code",
   "execution_count": 4,
   "id": "9afd30ca",
   "metadata": {},
   "outputs": [],
   "source": [
    "def connect_sql():\n",
    "    POSTGRES_ADDRESS = password.getaddress()\n",
    "    POSTGRES_PORT = password.getport()\n",
    "    POSTGRES_USERNAME = password.getusername()\n",
    "    POSTGRES_PASSWORD = password.getpass()\n",
    "    POSTGRES_DBNAME = password.getdbname()\n",
    "    postgres_str = ('postgresql://{username}:{password}@{ipaddress}:{port}/{dbname}'.format(username=POSTGRES_USERNAME,\n",
    "                                                                                            password=POSTGRES_PASSWORD, ipaddress=POSTGRES_ADDRESS, port=POSTGRES_PORT, dbname=POSTGRES_DBNAME))\n",
    "    return postgres_str"
   ]
  },
  {
   "cell_type": "code",
   "execution_count": 18,
   "id": "bd188af5",
   "metadata": {},
   "outputs": [],
   "source": [
    "qep = pd.read_sql_query(\"\"\" \n",
    "explain\n",
    "select c_name , c_acctbal ,c_custkey, o_totalprice\n",
    "from customer as a\n",
    "join public.orders as b on a.c_custkey = b.o_custkey\n",
    "where o_totalprice < 50000\n",
    "\"\"\",connect_sql() )"
   ]
  },
  {
   "cell_type": "code",
   "execution_count": 19,
   "id": "881e6d2f",
   "metadata": {},
   "outputs": [
    {
     "data": {
      "text/html": [
       "<div>\n",
       "<style scoped>\n",
       "    .dataframe tbody tr th:only-of-type {\n",
       "        vertical-align: middle;\n",
       "    }\n",
       "\n",
       "    .dataframe tbody tr th {\n",
       "        vertical-align: top;\n",
       "    }\n",
       "\n",
       "    .dataframe thead th {\n",
       "        text-align: right;\n",
       "    }\n",
       "</style>\n",
       "<table border=\"1\" class=\"dataframe\">\n",
       "  <thead>\n",
       "    <tr style=\"text-align: right;\">\n",
       "      <th></th>\n",
       "      <th>QUERY PLAN</th>\n",
       "    </tr>\n",
       "  </thead>\n",
       "  <tbody>\n",
       "    <tr>\n",
       "      <th>0</th>\n",
       "      <td>Hash Join  (cost=7986.00..56444.84 rows=208697...</td>\n",
       "    </tr>\n",
       "    <tr>\n",
       "      <th>1</th>\n",
       "      <td>Hash Cond: (b.o_custkey = a.c_custkey)</td>\n",
       "    </tr>\n",
       "    <tr>\n",
       "      <th>2</th>\n",
       "      <td>-&gt;  Seq Scan on orders b  (cost=0.00..44845....</td>\n",
       "    </tr>\n",
       "    <tr>\n",
       "      <th>3</th>\n",
       "      <td>Filter: (o_totalprice &lt; '50000'::numeric)</td>\n",
       "    </tr>\n",
       "    <tr>\n",
       "      <th>4</th>\n",
       "      <td>-&gt;  Hash  (cost=5085.00..5085.00 rows=150000...</td>\n",
       "    </tr>\n",
       "    <tr>\n",
       "      <th>5</th>\n",
       "      <td>-&gt;  Seq Scan on customer a  (cost=0.00...</td>\n",
       "    </tr>\n",
       "  </tbody>\n",
       "</table>\n",
       "</div>"
      ],
      "text/plain": [
       "                                          QUERY PLAN\n",
       "0  Hash Join  (cost=7986.00..56444.84 rows=208697...\n",
       "1             Hash Cond: (b.o_custkey = a.c_custkey)\n",
       "2    ->  Seq Scan on orders b  (cost=0.00..44845....\n",
       "3          Filter: (o_totalprice < '50000'::numeric)\n",
       "4    ->  Hash  (cost=5085.00..5085.00 rows=150000...\n",
       "5          ->  Seq Scan on customer a  (cost=0.00..."
      ]
     },
     "execution_count": 19,
     "metadata": {},
     "output_type": "execute_result"
    }
   ],
   "source": [
    "qep"
   ]
  },
  {
   "cell_type": "code",
   "execution_count": 20,
   "id": "6b10ac32",
   "metadata": {},
   "outputs": [
    {
     "data": {
      "text/plain": [
       "'-'"
      ]
     },
     "execution_count": 20,
     "metadata": {},
     "output_type": "execute_result"
    }
   ],
   "source": [
    "qep['QUERY PLAN'][4][2]"
   ]
  },
  {
   "cell_type": "code",
   "execution_count": 22,
   "id": "1d866f58",
   "metadata": {},
   "outputs": [
    {
     "data": {
      "text/plain": [
       "'\\t hi'"
      ]
     },
     "execution_count": 22,
     "metadata": {},
     "output_type": "execute_result"
    }
   ],
   "source": [
    "\"\\t hi\""
   ]
  },
  {
   "cell_type": "code",
   "execution_count": 23,
   "id": "abb7542d",
   "metadata": {},
   "outputs": [],
   "source": [
    "queries = []"
   ]
  },
  {
   "cell_type": "code",
   "execution_count": 24,
   "id": "26767809",
   "metadata": {},
   "outputs": [
    {
     "name": "stdout",
     "output_type": "stream",
     "text": [
      "Hash Join  (cost=7986.00..56444.84 rows=208697 width=37)\n",
      "  ->  Seq Scan on orders b  (cost=0.00..44845.00 rows=208697 width=12)\n",
      "  ->  Hash  (cost=5085.00..5085.00 rows=150000 width=29)\n",
      "        ->  Seq Scan on customer a  (cost=0.00..5085.00 rows=150000 width=29)\n"
     ]
    }
   ],
   "source": [
    "queries = []\n",
    "count = 0\n",
    "for i in qep[\"QUERY PLAN\"]:\n",
    "    if \"->\" in i or count == 0:\n",
    "        queries.append(i)\n",
    "        print(i)\n",
    "    count+=1"
   ]
  },
  {
   "cell_type": "code",
   "execution_count": 30,
   "id": "f63d259f",
   "metadata": {},
   "outputs": [
    {
     "data": {
      "text/plain": [
       "['Hash Join  (cost=7986.00..56444.84 rows=208697 width=37)',\n",
       " '  ->  Seq Scan on orders b  (cost=0.00..44845.00 rows=208697 width=12)',\n",
       " '  ->  Hash  (cost=5085.00..5085.00 rows=150000 width=29)',\n",
       " '        ->  Seq Scan on customer a  (cost=0.00..5085.00 rows=150000 width=29)']"
      ]
     },
     "execution_count": 30,
     "metadata": {},
     "output_type": "execute_result"
    }
   ],
   "source": [
    "queries"
   ]
  },
  {
   "cell_type": "code",
   "execution_count": 31,
   "id": "aa666a1f",
   "metadata": {},
   "outputs": [],
   "source": [
    "function = [\"Hash Join\", \"Seq Scan\", \"Hash\"]"
   ]
  },
  {
   "cell_type": "code",
   "execution_count": 42,
   "id": "c57d255b",
   "metadata": {},
   "outputs": [],
   "source": [
    "new_dict = {}\n",
    "for i in queries:\n",
    "    for j in function:\n",
    "        if i.find(j) != -1:\n",
    "            new_dict[j] = ''\n",
    "        "
   ]
  },
  {
   "cell_type": "code",
   "execution_count": 46,
   "id": "2fa12c54",
   "metadata": {},
   "outputs": [
    {
     "name": "stdout",
     "output_type": "stream",
     "text": [
      "2 Seq Scan\n",
      "2 Hash\n",
      "8 Seq Scan\n"
     ]
    }
   ],
   "source": [
    "for i in queries:\n",
    "    index = i.find(\"->\")\n",
    "    if index != -1:\n",
    "        for j in function:\n",
    "            new_index = i.find(j)\n",
    "            if new_index != -1:\n",
    "                print(index, j)\n",
    "                break"
   ]
  },
  {
   "cell_type": "code",
   "execution_count": 36,
   "id": "09759ad4",
   "metadata": {},
   "outputs": [
    {
     "name": "stdout",
     "output_type": "stream",
     "text": [
      "Hash Join  (cost=7986.00..56444.84 rows=208697 width=37)\n"
     ]
    }
   ],
   "source": [
    "for i in queries:\n",
    "    print(i)\n",
    "    break\n",
    "    "
   ]
  },
  {
   "cell_type": "code",
   "execution_count": 40,
   "id": "b5d6855b",
   "metadata": {},
   "outputs": [
    {
     "data": {
      "text/plain": [
       "0"
      ]
     },
     "execution_count": 40,
     "metadata": {},
     "output_type": "execute_result"
    }
   ],
   "source": [
    "i.find(function[2])"
   ]
  },
  {
   "cell_type": "code",
   "execution_count": 8,
   "id": "25211e08",
   "metadata": {},
   "outputs": [
    {
     "name": "stdout",
     "output_type": "stream",
     "text": [
      "PostgreSQL connection is closed\n"
     ]
    }
   ],
   "source": [
    "cursor.close()\n",
    "connection.close()\n",
    "print(\"PostgreSQL connection is closed\")"
   ]
  },
  {
   "cell_type": "code",
   "execution_count": 138,
   "id": "c75620f9",
   "metadata": {},
   "outputs": [],
   "source": [
    "example1 = \"\"\"  SELECT\n",
    "                                l_shipmode,\n",
    "                                sum(case\n",
    "                                    when o_orderpriority = '1-URGENT'\n",
    "                                        OR o_orderpriority = '2-HIGH'\n",
    "                                        then 1\n",
    "                                    else 0\n",
    "                                end) as high_line_count,\n",
    "                                sum(case\n",
    "                                    when o_orderpriority <> '1-URGENT'\n",
    "                                        AND o_orderpriority <> '2-HIGH'\n",
    "                                        then 1\n",
    "                                    else 0\n",
    "                                end) AS low_line_count\n",
    "                            FROM\n",
    "                                orders,\n",
    "                                lineitem\n",
    "                            WHERE\n",
    "                                o_orderkey = l_orderkey\n",
    "                                AND l_shipmode in ('MAIL', 'SHIP')\n",
    "                                AND l_commitdate < l_receiptdate\n",
    "                                AND l_shipdate < l_commitdate\n",
    "                                AND l_receiptdate >= date '1994-01-01'\n",
    "                                AND l_receiptdate < date '1994-01-01' + interval '1' year\n",
    "                            GROUP BY\n",
    "                                l_shipmode\n",
    "                            ORDER BY\n",
    "                                l_shipmode;\"\"\""
   ]
  },
  {
   "cell_type": "code",
   "execution_count": 139,
   "id": "b2ec75d0",
   "metadata": {},
   "outputs": [
    {
     "data": {
      "text/html": [
       "<div>\n",
       "<style scoped>\n",
       "    .dataframe tbody tr th:only-of-type {\n",
       "        vertical-align: middle;\n",
       "    }\n",
       "\n",
       "    .dataframe tbody tr th {\n",
       "        vertical-align: top;\n",
       "    }\n",
       "\n",
       "    .dataframe thead th {\n",
       "        text-align: right;\n",
       "    }\n",
       "</style>\n",
       "<table border=\"1\" class=\"dataframe\">\n",
       "  <thead>\n",
       "    <tr style=\"text-align: right;\">\n",
       "      <th></th>\n",
       "      <th>QUERY PLAN</th>\n",
       "    </tr>\n",
       "  </thead>\n",
       "  <tbody>\n",
       "    <tr>\n",
       "      <th>0</th>\n",
       "      <td>Finalize GroupAggregate  (cost=327232.43..3274...</td>\n",
       "    </tr>\n",
       "    <tr>\n",
       "      <th>1</th>\n",
       "      <td>Group Key: lineitem.l_shipmode</td>\n",
       "    </tr>\n",
       "    <tr>\n",
       "      <th>2</th>\n",
       "      <td>-&gt;  Gather Merge  (cost=327232.43..327481.45...</td>\n",
       "    </tr>\n",
       "    <tr>\n",
       "      <th>3</th>\n",
       "      <td>Workers Planned: 2</td>\n",
       "    </tr>\n",
       "    <tr>\n",
       "      <th>4</th>\n",
       "      <td>-&gt;  Partial GroupAggregate  (cost=3262...</td>\n",
       "    </tr>\n",
       "    <tr>\n",
       "      <th>5</th>\n",
       "      <td>Group Key: lineitem.l_shipmode</td>\n",
       "    </tr>\n",
       "    <tr>\n",
       "      <th>6</th>\n",
       "      <td>-&gt;  Sort  (cost=326232.40..32626...</td>\n",
       "    </tr>\n",
       "    <tr>\n",
       "      <th>7</th>\n",
       "      <td>Sort Key: lineitem.l_shipmode</td>\n",
       "    </tr>\n",
       "    <tr>\n",
       "      <th>8</th>\n",
       "      <td>-&gt;  Nested Loop  (cost=0.4...</td>\n",
       "    </tr>\n",
       "    <tr>\n",
       "      <th>9</th>\n",
       "      <td>-&gt;  Parallel Seq Sca...</td>\n",
       "    </tr>\n",
       "    <tr>\n",
       "      <th>10</th>\n",
       "      <td>Filter: ((l_sh...</td>\n",
       "    </tr>\n",
       "    <tr>\n",
       "      <th>11</th>\n",
       "      <td>-&gt;  Index Scan using...</td>\n",
       "    </tr>\n",
       "    <tr>\n",
       "      <th>12</th>\n",
       "      <td>Index Cond: (o...</td>\n",
       "    </tr>\n",
       "  </tbody>\n",
       "</table>\n",
       "</div>"
      ],
      "text/plain": [
       "                                           QUERY PLAN\n",
       "0   Finalize GroupAggregate  (cost=327232.43..3274...\n",
       "1                      Group Key: lineitem.l_shipmode\n",
       "2     ->  Gather Merge  (cost=327232.43..327481.45...\n",
       "3                                  Workers Planned: 2\n",
       "4           ->  Partial GroupAggregate  (cost=3262...\n",
       "5                      Group Key: lineitem.l_shipmode\n",
       "6                 ->  Sort  (cost=326232.40..32626...\n",
       "7                       Sort Key: lineitem.l_shipmode\n",
       "8                       ->  Nested Loop  (cost=0.4...\n",
       "9                             ->  Parallel Seq Sca...\n",
       "10                                  Filter: ((l_sh...\n",
       "11                            ->  Index Scan using...\n",
       "12                                  Index Cond: (o..."
      ]
     },
     "execution_count": 139,
     "metadata": {},
     "output_type": "execute_result"
    }
   ],
   "source": [
    "qep_new = pd.read_sql_query(\"explain \"+ example1 ,connect_sql() )\n",
    "qep_new"
   ]
  },
  {
   "cell_type": "code",
   "execution_count": 140,
   "id": "7379b0e7",
   "metadata": {},
   "outputs": [
    {
     "name": "stdout",
     "output_type": "stream",
     "text": [
      "Finalize GroupAggregate  (cost=327232.43..327481.63 rows=7 width=27)\n",
      "  ->  Gather Merge  (cost=327232.43..327481.45 rows=14 width=27)\n",
      "        ->  Partial GroupAggregate  (cost=326232.40..326479.81 rows=7 width=27)\n",
      "              ->  Sort  (cost=326232.40..326263.32 rows=12367 width=27)\n",
      "                    ->  Nested Loop  (cost=0.43..325391.81 rows=12367 width=27)\n",
      "                          ->  Parallel Seq Scan on lineitem  (cost=0.00..281495.42 rows=12367 width=15)\n",
      "                          ->  Index Scan using orders_pkey on orders  (cost=0.43..3.55 rows=1 width=20)\n"
     ]
    }
   ],
   "source": [
    "queries = []\n",
    "query_explanation = []\n",
    "count = 0\n",
    "for i in qep_new[\"QUERY PLAN\"]:\n",
    "    if \"->\" in i or count == 0:\n",
    "        queries.append(i)\n",
    "        print(i)\n",
    "    else :\n",
    "        query_explanation.append(\" \".join(i.split()))\n",
    "    count+=1"
   ]
  },
  {
   "cell_type": "code",
   "execution_count": 141,
   "id": "232ae33b",
   "metadata": {},
   "outputs": [],
   "source": [
    "graphing = []\n",
    "\n",
    "for i in queries:\n",
    "    index = i.find(\"->\")\n",
    "    query_string = i.split(\"(\")\n",
    "    filter_string = \" \".join(query_string[0].split())\n",
    "    try:\n",
    "        filter_string = filter_string.split(\"-> \")[1]\n",
    "    except:\n",
    "        filter_string = filter_string\n",
    "        \n",
    "    graphing.append([index, filter_string])\n"
   ]
  },
  {
   "cell_type": "code",
   "execution_count": 142,
   "id": "9403a3a2",
   "metadata": {},
   "outputs": [
    {
     "data": {
      "text/plain": [
       "[[-1, 'Finalize GroupAggregate'],\n",
       " [2, 'Gather Merge'],\n",
       " [8, 'Partial GroupAggregate'],\n",
       " [14, 'Sort'],\n",
       " [20, 'Nested Loop'],\n",
       " [26, 'Parallel Seq Scan on lineitem'],\n",
       " [26, 'Index Scan using orders_pkey on orders']]"
      ]
     },
     "execution_count": 142,
     "metadata": {},
     "output_type": "execute_result"
    }
   ],
   "source": [
    "graphing"
   ]
  },
  {
   "cell_type": "code",
   "execution_count": 143,
   "id": "b7edbb0c",
   "metadata": {},
   "outputs": [
    {
     "data": {
      "text/plain": [
       "['Group Key: lineitem.l_shipmode',\n",
       " 'Workers Planned: 2',\n",
       " 'Group Key: lineitem.l_shipmode',\n",
       " 'Sort Key: lineitem.l_shipmode',\n",
       " \"Filter: ((l_shipmode = ANY ('{MAIL,SHIP}'::bpchar[])) AND (l_commitdate < l_receiptdate) AND (l_shipdate < l_commitdate) AND (l_receiptdate >= '1994-01-01'::date) AND (l_receiptdate < '1995-01-01 00:00:00'::timestamp without time zone))\",\n",
       " 'Index Cond: (o_orderkey = lineitem.l_orderkey)']"
      ]
     },
     "execution_count": 143,
     "metadata": {},
     "output_type": "execute_result"
    }
   ],
   "source": [
    "query_explanation"
   ]
  },
  {
   "cell_type": "code",
   "execution_count": 160,
   "id": "e3868666",
   "metadata": {},
   "outputs": [],
   "source": [
    "queries = []\n",
    "index_tracker = []\n",
    "count = 0\n",
    "temp_query = 0\n",
    "\n",
    "for i in qep_new[\"QUERY PLAN\"]:\n",
    "    if \"->\" in i or count == 0:\n",
    "        queries.append(temp_query)\n",
    "        \n",
    "        index = i.find(\"->\")\n",
    "        if index not in index_tracker:\n",
    "            index_tracker.append(index)\n",
    "        query_string = i.split(\"(\")\n",
    "        filter_string = \" \".join(query_string[0].split())\n",
    "        \n",
    "        try:\n",
    "            filter_string = filter_string.split(\"-> \")[1]\n",
    "            \n",
    "        except:\n",
    "            filter_string = filter_string\n",
    "            \n",
    "            \n",
    "        temp_query = [index, filter_string]\n",
    "            \n",
    "    else :\n",
    "        query_explanation = \" \".join(i.split())\n",
    "        temp_query.append(query_explanation)\n",
    "        \n",
    "    count+=1\n",
    "    \n",
    "queries.append(temp_query)"
   ]
  },
  {
   "cell_type": "code",
   "execution_count": 162,
   "id": "bc6b7fc4",
   "metadata": {
    "scrolled": false
   },
   "outputs": [
    {
     "name": "stdout",
     "output_type": "stream",
     "text": [
      "[0, 'Finalize GroupAggregate', 'Group Key: lineitem.l_shipmode']\n",
      "[1, 'Gather Merge', 'Workers Planned: 2']\n",
      "[2, 'Partial GroupAggregate', 'Group Key: lineitem.l_shipmode']\n",
      "[3, 'Sort', 'Sort Key: lineitem.l_shipmode']\n",
      "[4, 'Nested Loop']\n",
      "[5, 'Parallel Seq Scan on lineitem', \"Filter: ((l_shipmode = ANY ('{MAIL,SHIP}'::bpchar[])) AND (l_commitdate < l_receiptdate) AND (l_shipdate < l_commitdate) AND (l_receiptdate >= '1994-01-01'::date) AND (l_receiptdate < '1995-01-01 00:00:00'::timestamp without time zone))\"]\n",
      "[5, 'Index Scan using orders_pkey on orders', 'Index Cond: (o_orderkey = lineitem.l_orderkey)']\n"
     ]
    }
   ],
   "source": [
    "queries.pop(0)\n",
    "for i in queries:\n",
    "    i[0] = index_tracker.index(i[0])\n",
    "    print(i)"
   ]
  },
  {
   "cell_type": "code",
   "execution_count": 165,
   "id": "f73b7150",
   "metadata": {},
   "outputs": [],
   "source": [
    "def get_query(q_string):\n",
    "    qep_new = pd.read_sql_query(\"explain \"+ q_string ,connect_sql() )\n",
    "    qep_new\n",
    "    \n",
    "    queries = []\n",
    "    index_tracker = []\n",
    "    count = 0\n",
    "    temp_query = 0\n",
    "\n",
    "    for i in qep_new[\"QUERY PLAN\"]:\n",
    "        if \"->\" in i or count == 0:\n",
    "            queries.append(temp_query)\n",
    "\n",
    "            index = i.find(\"->\")\n",
    "            if index not in index_tracker:\n",
    "                index_tracker.append(index)\n",
    "            query_string = i.split(\"(\")\n",
    "            filter_string = \" \".join(query_string[0].split())\n",
    "\n",
    "            try:\n",
    "                filter_string = filter_string.split(\"-> \")[1]\n",
    "\n",
    "            except:\n",
    "                filter_string = filter_string\n",
    "\n",
    "\n",
    "            temp_query = [index, filter_string]\n",
    "\n",
    "        else :\n",
    "            query_explanation = \" \".join(i.split())\n",
    "            temp_query.append(query_explanation)\n",
    "\n",
    "        count+=1\n",
    "\n",
    "    queries.append(temp_query)\n",
    "    queries.pop(0)\n",
    "    count = 0\n",
    "    for i in queries:\n",
    "        queries[count][0] = index_tracker.index(i[0])\n",
    "        count +=1\n",
    "    return queries\n"
   ]
  },
  {
   "cell_type": "code",
   "execution_count": 171,
   "id": "0743ea2e",
   "metadata": {},
   "outputs": [],
   "source": [
    "example2 = \"\"\"\n",
    "SELECT\n",
    "    l_orderkey,\n",
    "    sum(l_extendedprice * (1 - l_discount)) as revenue,\n",
    "    o_orderdate,\n",
    "    o_shippriority\n",
    "FROM\n",
    "    customer,\n",
    "    orders,\n",
    "    lineitem\n",
    "WHERE\n",
    "    c_mktsegment = 'BUILDING'\n",
    "    AND c_custkey = o_custkey\n",
    "    AND l_orderkey = o_orderkey\n",
    "    AND o_orderdate < date '1995-03-15'\n",
    "    AND l_shipdate > date '1995-03-15'\n",
    "GROUP BY\n",
    "    l_orderkey,\n",
    "    o_orderdate,\n",
    "    o_shippriority\n",
    "ORDER BY\n",
    "    revenue desc,\n",
    "    o_orderdate\n",
    "LIMIT 20;\n",
    "\"\"\""
   ]
  },
  {
   "cell_type": "code",
   "execution_count": 172,
   "id": "a80e1dc6",
   "metadata": {},
   "outputs": [
    {
     "data": {
      "text/plain": [
       "[[0, 'Limit'],\n",
       " [1,\n",
       "  'Sort',\n",
       "  \"Sort Key: (sum((lineitem.l_extendedprice * ('1'::numeric - lineitem.l_discount)))) DESC, orders.o_orderdate\"],\n",
       " [2,\n",
       "  'Finalize GroupAggregate',\n",
       "  'Group Key: lineitem.l_orderkey, orders.o_orderdate, orders.o_shippriority'],\n",
       " [3, 'Gather Merge', 'Workers Planned: 2'],\n",
       " [4,\n",
       "  'Partial GroupAggregate',\n",
       "  'Group Key: lineitem.l_orderkey, orders.o_orderdate, orders.o_shippriority'],\n",
       " [5,\n",
       "  'Sort',\n",
       "  'Sort Key: lineitem.l_orderkey, orders.o_orderdate, orders.o_shippriority'],\n",
       " [6, 'Nested Loop'],\n",
       " [7,\n",
       "  'Parallel Hash Join',\n",
       "  'Hash Cond: (orders.o_custkey = customer.c_custkey)'],\n",
       " [8,\n",
       "  'Parallel Seq Scan on orders',\n",
       "  \"Filter: (o_orderdate < '1995-03-15'::date)\"],\n",
       " [8, 'Parallel Hash'],\n",
       " [9,\n",
       "  'Parallel Seq Scan on customer',\n",
       "  \"Filter: (c_mktsegment = 'BUILDING'::bpchar)\"],\n",
       " [7,\n",
       "  'Index Scan using lineitem_pkey on lineitem',\n",
       "  'Index Cond: (l_orderkey = orders.o_orderkey)',\n",
       "  \"Filter: (l_shipdate > '1995-03-15'::date)\"]]"
      ]
     },
     "execution_count": 172,
     "metadata": {},
     "output_type": "execute_result"
    }
   ],
   "source": [
    "get_query(example2)"
   ]
  },
  {
   "cell_type": "code",
   "execution_count": null,
   "id": "a45a8b27",
   "metadata": {},
   "outputs": [],
   "source": []
  }
 ],
 "metadata": {
  "kernelspec": {
   "display_name": "Python 3",
   "language": "python",
   "name": "python3"
  },
  "language_info": {
   "codemirror_mode": {
    "name": "ipython",
    "version": 3
   },
   "file_extension": ".py",
   "mimetype": "text/x-python",
   "name": "python",
   "nbconvert_exporter": "python",
   "pygments_lexer": "ipython3",
   "version": "3.8.8"
  }
 },
 "nbformat": 4,
 "nbformat_minor": 5
}
